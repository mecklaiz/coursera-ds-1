{
 "cells": [
  {
   "cell_type": "markdown",
   "id": "5d60847b-a661-4821-a4cd-f1993e68a740",
   "metadata": {},
   "source": [
    "# Data Science Tools and Ecosystem"
   ]
  },
  {
   "cell_type": "markdown",
   "id": "80819168-ea08-4d35-a51e-4e1b0a7912a2",
   "metadata": {},
   "source": [
    "In this notebook, Data Science Tools and Ecosystem are summarized.\n",
    "\n"
   ]
  },
  {
   "cell_type": "markdown",
   "id": "6282eb6a-2940-4751-9cb0-cee40dc5d21e",
   "metadata": {},
   "source": [
    "**Objectives**:\n",
    "- List popular languages\n",
    "- List commonly used libraries\n",
    "- List tools"
   ]
  },
  {
   "cell_type": "markdown",
   "id": "c9ab032b-0486-45c4-ad8d-1046f81092cc",
   "metadata": {},
   "source": [
    "Some of the popular languages that Data Scientists use are:\n",
    "1. Python\n",
    "2. R\n",
    "3. Java\n",
    "4. Scala"
   ]
  },
  {
   "cell_type": "markdown",
   "id": "e458bdd2-b8c0-4272-844e-1bb21267eac0",
   "metadata": {},
   "source": [
    "Some of the commonly used libraries used by Data Scientists include:\n",
    "1. Matplotlib\n",
    "2. pandas\n",
    "3. Keras\n",
    "4. TensorFlow"
   ]
  },
  {
   "cell_type": "markdown",
   "id": "e078c611-4055-49f7-9d39-44de72bcae5f",
   "metadata": {},
   "source": [
    "\n",
    "| Data Science Tools |\n",
    "|------------|\n",
    "| JupyterLab|\n",
    "| RStudio |\n",
    "| Visual Studio Code |\n"
   ]
  },
  {
   "cell_type": "markdown",
   "id": "98fe2b94-d670-4768-99f9-e91b7147c711",
   "metadata": {},
   "source": [
    "### Below are a few examples of evaluating arithmetic expressions in Python"
   ]
  },
  {
   "cell_type": "code",
   "execution_count": 5,
   "id": "adfc0258-530e-47aa-9c22-2089d9e67d1e",
   "metadata": {},
   "outputs": [
    {
     "data": {
      "text/plain": [
       "17"
      ]
     },
     "execution_count": 5,
     "metadata": {},
     "output_type": "execute_result"
    }
   ],
   "source": [
    "# This a simple arithmetic expression to mutiply then add integers.\n",
    "(3*4)+5"
   ]
  },
  {
   "cell_type": "code",
   "execution_count": null,
   "id": "bfd4dd3f-c25b-4213-ae1f-5e663c8022ed",
   "metadata": {},
   "outputs": [],
   "source": [
    "Exercise 9 - Create a code cell to convert minutes to hours\n",
    "\n",
    "In this code cell write an expression that converts 200 minutes into hours.\n",
    "Insert a comment line before the expression to explain the operation e.g.  This will convert 200 minutes to hours by diving by 60.\n",
    "Run the cell to evaluate the expression.\n",
    "\n",
    "Take a screenshot of the code cell with output and name it as 9-hourstominutes.png\n"
   ]
  },
  {
   "cell_type": "code",
   "execution_count": 6,
   "id": "76a5b7fa-a848-4d09-a4bf-5fc109429bf5",
   "metadata": {},
   "outputs": [
    {
     "data": {
      "text/plain": [
       "3.3333333333333335"
      ]
     },
     "execution_count": 6,
     "metadata": {},
     "output_type": "execute_result"
    }
   ],
   "source": [
    "# This will convert 200 minutes to hours by diving by 60.\n",
    "200/60"
   ]
  },
  {
   "cell_type": "markdown",
   "id": "d83c797b-8da9-4525-a687-7b737cfbc410",
   "metadata": {},
   "source": [
    "Exercise 10 - Insert a markdown cell to list Objectives\n",
    "\n",
    "Below the introduction cell created in Exercise 3, insert a new markdown cell to list the objectives that this notebook covered (i.e. some of the key takeaways from the course). In this new cell start with an introductory line titled: Objectives: in bold font. Then using an unordered list (bullets) indicate 3 to 5 items covered in this notebook, such as List popular languages for Data Science.\n",
    "\n",
    "Take a screenshot of the markdown cell and name it as 10-objectives.png"
   ]
  },
  {
   "cell_type": "markdown",
   "id": "ecfd985d-447f-4b0b-9777-14458f956503",
   "metadata": {},
   "source": [
    "\n",
    "Exercise 11 - Create a markdown cell to indicate the Author's name\n",
    "\n",
    "In this markdown cell markdown cell include the following text Author in H2 style heading. Include your name as regular text below the word Author.\n",
    "\n",
    "Take a screenshot of the markdown cell and name it as 11-authordetails.png\n",
    "\n",
    "Note: Save and download the notebook."
   ]
  },
  {
   "cell_type": "markdown",
   "id": "83099e98-9ed4-4e5b-8a2a-adde40d4da39",
   "metadata": {},
   "source": [
    "## Author\n",
    "Zain Mecklai"
   ]
  },
  {
   "cell_type": "markdown",
   "id": "04b0c2ee-4303-4a03-93cf-8faaea911d96",
   "metadata": {},
   "source": [
    "\n",
    "Exercise 12 - Share your notebook through GitHub\n",
    "\n",
    "Upload your notebook to a public respository on GitHub.\n",
    "\n",
    "Note : Please keep the GitHub repo link of the notebook handy.\n",
    "You will need to submit this link as a part of the assignment evaluation.\n",
    "\n",
    "Hint: Refer to Lab: Working with files in Jupyter Notebooks to download the notebook from SN Labs.\n",
    "\n",
    "Exercise 13 -Take a screenshot of the first page of the notebook and save it as 1-notebook.png\n",
    "\n",
    "Refer to Hands-on Lab: Getting Started with GitHub to upload the downloaded notebook to GitHub."
   ]
  },
  {
   "cell_type": "code",
   "execution_count": null,
   "id": "235d8ef5-a5ac-4d05-b940-9495fa585234",
   "metadata": {},
   "outputs": [],
   "source": []
  },
  {
   "cell_type": "code",
   "execution_count": null,
   "id": "42821a34-46d4-40dc-a57b-78d0cf7fa452",
   "metadata": {},
   "outputs": [],
   "source": []
  }
 ],
 "metadata": {
  "kernelspec": {
   "display_name": "Python 3 (ipykernel)",
   "language": "python",
   "name": "python3"
  },
  "language_info": {
   "codemirror_mode": {
    "name": "ipython",
    "version": 3
   },
   "file_extension": ".py",
   "mimetype": "text/x-python",
   "name": "python",
   "nbconvert_exporter": "python",
   "pygments_lexer": "ipython3",
   "version": "3.13.5"
  }
 },
 "nbformat": 4,
 "nbformat_minor": 5
}
